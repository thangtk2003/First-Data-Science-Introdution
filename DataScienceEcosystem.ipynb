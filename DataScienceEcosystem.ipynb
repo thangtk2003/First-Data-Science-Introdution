{
 "cells": [
  {
   "cell_type": "markdown",
   "metadata": {},
   "source": [
    "# Data Science Tools and Ecosystem"
   ]
  },
  {
   "cell_type": "markdown",
   "metadata": {},
   "source": [
    "In this notebook, Data Science Tools and Ecosystem are summarized."
   ]
  },
  {
   "cell_type": "markdown",
   "metadata": {},
   "source": [
    "Some of the popular languages that Data Scientists use are:\n",
    "\n",
    "1. **Python**:\n",
    "   Known for its simplicity and versatility, Python is widely used in the Data Science community. With extensive libraries such as NumPy, Pandas, and Scikit-Learn, Python supports various tasks from data manipulation to machine learning.\n",
    "\n",
    "2. **R**:\n",
    "   A statistical programming language, R is favored for its strong data analysis and visualization capabilities. It has a rich ecosystem of packages like ggplot2 and dplyr, making it a go-to choice for statisticians and researchers.\n",
    "\n",
    "3. **SQL**:\n",
    "   Structured Query Language (SQL) is essential for handling and querying databases. Data Scientists often use SQL to retrieve and manipulate data stored in relational databases, integrating it seamlessly into their analysis workflows.\n",
    "\n",
    "4. **Julia** (Optional):\n",
    "   Growing in popularity for its speed and performance, Julia is a programming language designed for high-performance numerical and scientific computing. It's gaining traction in data science for tasks that require intensive computation."
   ]
  },
  {
   "cell_type": "markdown",
   "metadata": {},
   "source": [
    "Some of the commonly used libraries used by Data Scientists include:\n",
    "\n",
    "1. **Pandas**:\n",
    "   A powerful and easy-to-use data manipulation library in Python. Pandas provides data structures like DataFrames, making it efficient for cleaning, transforming, and analyzing structured data.\n",
    "\n",
    "2. **NumPy**:\n",
    "   The fundamental package for scientific computing with Python. NumPy provides support for large, multi-dimensional arrays and matrices, along with a collection of mathematical functions to operate on these arrays.\n",
    "\n",
    "3. **Scikit-Learn**:\n",
    "   A machine learning library for Python, Scikit-Learn offers simple and efficient tools for data analysis and modeling. It includes various algorithms for classification, regression, clustering, and more, making it an essential part of the Data Science toolkit.\n",
    "\n",
    "4. **Matplotlib**:\n",
    "   A widely used 2D plotting library in Python, Matplotlib enables Data Scientists to create static, animated, and interactive visualizations in a variety of formats.\n",
    "\n",
    "5. **Seaborn** (Optional):\n",
    "   Built on top of Matplotlib, Seaborn provides a high-level interface for creating attractive and informative statistical graphics. It simplifies the process of creating complex visualizations and is often used for exploratory data analysis.\n"
   ]
  },
  {
   "cell_type": "markdown",
   "metadata": {},
   "source": [
    "# Data Science Tools\n",
    "\n",
    "| Data Science Tools        |\n",
    "|---------------------------|\n",
    "| Jupyter Notebooks         |\n",
    "| RStudio                   |\n",
    "| VS Code with Python       |\n"
   ]
  },
  {
   "cell_type": "markdown",
   "metadata": {},
   "source": [
    "### Arithmetic Expression Examples\n",
    "\n",
    "Below are a few examples of evaluating arithmetic expressions in Python.\n"
   ]
  },
  {
   "cell_type": "code",
   "execution_count": 1,
   "metadata": {},
   "outputs": [
    {
     "data": {
      "text/plain": [
       "17"
      ]
     },
     "execution_count": 1,
     "metadata": {},
     "output_type": "execute_result"
    }
   ],
   "source": [
    "# This is a simple arithmetic expression to multiply then add integers.\n",
    "result = (3 * 4) + 5\n",
    "result"
   ]
  },
  {
   "cell_type": "code",
   "execution_count": 2,
   "metadata": {},
   "outputs": [
    {
     "data": {
      "text/plain": [
       "3.3333333333333335"
      ]
     },
     "execution_count": 2,
     "metadata": {},
     "output_type": "execute_result"
    }
   ],
   "source": [
    "# This will convert 200 minutes to hours by dividing by 60.\n",
    "minutes = 200\n",
    "hours = minutes / 60\n",
    "hours"
   ]
  },
  {
   "cell_type": "markdown",
   "metadata": {},
   "source": [
    "# Objectives:\n",
    "\n",
    "- **List popular languages for Data Science**\n",
    "- **Highlight commonly used Data Science libraries**\n",
    "- **Introduce essential Data Science tools and development environments**\n",
    "- **Demonstrate evaluation of arithmetic expressions in Python**\n",
    "- **Illustrate simple conversions, such as minutes to hours, using Python**"
   ]
  },
  {
   "cell_type": "markdown",
   "metadata": {},
   "source": [
    "## Author\n",
    "\n",
    "Dang Quoc Thang"
   ]
  }
 ],
 "metadata": {
  "kernelspec": {
   "display_name": "Python 3",
   "language": "python",
   "name": "python3"
  },
  "language_info": {
   "codemirror_mode": {
    "name": "ipython",
    "version": 3
   },
   "file_extension": ".py",
   "mimetype": "text/x-python",
   "name": "python",
   "nbconvert_exporter": "python",
   "pygments_lexer": "ipython3",
   "version": "3.9.7"
  }
 },
 "nbformat": 4,
 "nbformat_minor": 2
}
